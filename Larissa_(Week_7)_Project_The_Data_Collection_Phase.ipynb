{
  "nbformat": 4,
  "nbformat_minor": 0,
  "metadata": {
    "colab": {
      "provenance": [],
      "collapsed_sections": [],
      "toc_visible": true,
      "include_colab_link": true
    },
    "kernelspec": {
      "name": "python3",
      "display_name": "Python 3"
    }
  },
  "cells": [
    {
      "cell_type": "markdown",
      "metadata": {
        "id": "view-in-github",
        "colab_type": "text"
      },
      "source": [
        "<a href=\"https://colab.research.google.com/github/flockofsparrows/Custom-Car-Order/blob/main/Larissa_(Week_7)_Project_The_Data_Collection_Phase.ipynb\" target=\"_parent\"><img src=\"https://colab.research.google.com/assets/colab-badge.svg\" alt=\"Open In Colab\"/></a>"
      ]
    },
    {
      "cell_type": "markdown",
      "metadata": {
        "id": "DqXqHnhb-LaF"
      },
      "source": [
        "\n",
        "# <font color=\"orange\"> Project:  The Data Collection Phase </font>\n",
        "\n",
        "This project has several goals that will prepare you for next week's objective of using Python to access data made available via the Internet and APIs.\n",
        "\n",
        "What you should know following this project:\n",
        "- Recognize JSON and CSV data.\n",
        "- Know how to read JSON data.\n",
        "- Practice reading API documentation and API usage.\n",
        "- Know how to format URLs, including query strings, to access specific API data that you want.\n",
        "- Understand the concept of different API endpoints within the same overall API.\n",
        "- Think about how you can use JSON data returned from API calls to solve a problem.\n",
        "\n",
        "If you feel comforable accessing API data and reading the resulting JSON data, then you are ready to use Python to programmatically access API data and use that data to solve a problem.\n"
      ]
    },
    {
      "cell_type": "markdown",
      "metadata": {
        "id": "rH6sfjqd6buo"
      },
      "source": [
        "## Part I - Study Documentation and Use a Simple API\n",
        "\n",
        "- Investigate and use the Dog API\n",
        "  - https://dog.ceo/dog-api/\n",
        "\n",
        "- You should test and (use a new code cell below to) copy the API endpoints that achieve the following: \n",
        "  - List all dog breeds\n",
        "  - Return a random image of a dog from the entire dataset of all dog images.\n",
        "    - Copy/paste the JSON that is returned by this endpoint.\n",
        "  - Return the list of all images for a **specific breed**.\n",
        "    - How many images are in the dataset for this breed.\n",
        "  - Return the list of all images for a **specific sub-breed**. \n",
        "    - HINT:  Look at the list of all breeds to find sub-breeds.\n",
        "  - Displays a JSON with a **random** image of a **specific breed**.  Copy/paste the resulting JSON below.\n",
        "  - Copy and paste in the code cell below the JSON returned by ANY API call that gives a `\"status\" : \"error\"` in the result.\n",
        "\n",
        "**NOTE**: If possible, avoid using examples that are explicitly highlighted on the *Dog API* site."
      ]
    },
    {
      "cell_type": "code",
      "source": [
        "# Copy the API endpoints that achieve the following:\n",
        "# All dog breeds \n",
        "\"https://dog.ceo/api/breeds/list/all\" \n",
        "# Return a random image of dog from the entire dataset of all dog images\n",
        "\"https://dog.ceo/api/breeds/image/random\" \n",
        "# copy/paste the JSON that is returned by this endpoint\n",
        "{\n",
        "    \"message\": \"https://images.dog.ceo/breeds/retriever-golden/joey_IMG_0261.jpg\",\n",
        "    \"status\": \"success\"\n",
        "}\n",
        "# Return the list of all images for a SPECIFIC BREED\n",
        "\"https://dog.ceo/api/breed/akita/images\"\n",
        "# How many images are in the dataset for this breed = 9\n",
        "# Return the list of all images for a SPECIFIC SUB-BREED\n",
        "\"https://dog.ceo/api/breed/terrier/scottish/images\"\n",
        "# Copy/paste JSON below for a random image of a SPECIFIC BREED\n",
        "\"https://dog.ceo/apibreeds/image/random\"\n",
        "# JSON for the random image of the SPECIFIC BREED\n",
        "{\n",
        "    \"message\": \"https://images.dog.ceo/breeds/komondor/n02105505_1272.jpg\",\n",
        "    \"status\": \"success\"\n",
        "}\n",
        "# Copy/paste the JSON returned by any API call that gives a \"status\": \"error\" result\n",
        "# answer to above line 23. \"object {3} status:\"error\"message:\"No route found for \"GET /api/breed/terrier/scottish/image/random\" with code: 0\"code:404\""
      ],
      "metadata": {
        "id": "AtwR8HLdBa35",
        "colab": {
          "base_uri": "https://localhost:8080/"
        },
        "outputId": "605d3e7f-4d76-4377-d7b7-4652d9c2ece2"
      },
      "execution_count": null,
      "outputs": [
        {
          "output_type": "execute_result",
          "data": {
            "text/plain": [
              "{'message': 'https://images.dog.ceo/breeds/komondor/n02105505_1272.jpg',\n",
              " 'status': 'success'}"
            ]
          },
          "metadata": {},
          "execution_count": 5
        }
      ]
    },
    {
      "cell_type": "markdown",
      "metadata": {
        "id": "5dhkY_JZwwFk"
      },
      "source": [
        "## Part II - Investigate and Use a New API Provided by the National Park Service\n",
        "\n",
        "You will investigate the [**National Park Service API**](https://www.nps.gov/subjects/developer/api-documentation.htm#/). \n",
        "\n",
        "- Register for an API key.\n",
        "- Peruse the documentation above.\n",
        "- What is the `base URL` that will be included in all NPS API calls?\n",
        "- Try the `activities` endpoint. How many categories of activities are returned by this API call?\n",
        "- Which API endpoint can list all the `parks` in their database. \n",
        "  - Write down the URL for this API endpoint.\n",
        "  - Execute that API call.\n",
        "  - How many `JSON name/value pairs` are contained within the **top-level JSON object** that is returned by the call.\n",
        "  - How many parks are in the database, based on this API call?  \n",
        "  - How many JSON `park objects` are returned by the API call that you just executed?\n",
        "  - How can you modify the `query string` to have `100 park objects` returned in the JSON?\n",
        "- Execute the `parks` API call for a specific national park of your choice.\n",
        "  - Write down the API call\n",
        "  - Copy and paste the values that have this information about the park:\n",
        "    - Full name of the park\n",
        "    - Description of the park\n",
        "    - The state(s) that the park is in.\n",
        "    - Current weather information about the park."
      ]
    },
    {
      "cell_type": "code",
      "source": [
        "# COPY/PASTE your solutions here\n",
        "\n",
        "# Base URL\n",
        "\"developer.nps.gov/api/v1\"\n",
        "# activities endpoint\n",
        "\"https://developer.nps.gov/api/v1/activities?&api_key=T4IUw12jrDjaJdUrMXBOtfySCGsCk9llR6gMmewE # How many catagories of activities = 40 (Answer)\"\n",
        "# All parks\n",
        "\"https://developer.nps.gov/api/v1/parks?&api_key=T4IUw12jrDjaJdUrMXBOtfySCGsCk9llR6gMmewE\" \n",
        "# Top-level object's keys\n",
        "4 \n",
        "# Total number of parks\n",
        "50\n",
        "# Total park objects returned by this call\n",
        "467\n",
        "# How can I get 100 park objects returned?\n",
        "\"https://developer.nps.gov/api/v1/parks?start=99&api_key=T4IUw12jrDjaJdUrMXBOtfySCGsCk9llR6gMmewE\"\n",
        "# Specific endpoint for specific national park of your choice\n",
        "\"https://developer.nps.gov/api/v1/parks?parkCode=pefo&api_key=T4IUw12jrDjaJdUrMXBOtfySCGsCk9llR6gMmewE\"\n",
        "# Name/value pairs =\n",
        "# Answer = \"fullName\": \"Petrified Forest National Park\",\n",
        "# Answer = \"description\": \"Park Hours: 8am to 6pm, MST. Don't forget that Arizona does not observe Daylight Savings. We are an hour earlier than New Mexico, Utah, and the Navajo Nation. Would you like to see the park film? It is located at the park's YouTube Channel as well as the giftshop at Rainbow Forest.\",\n",
        "# Answer = \"states\": \"AZ\",\n",
        "# Answer = \"weatherInfo\": \"Petrified Forest National Park is a semi-arid grassland. Temperatures range from above 100° F (38° C) to well below freezing. About 10 inches (25.4 cm) of moisture comes during infrequent snow in the winter and often dramatic summer thunder-storms. Animals and plants are adapted to extremes in temperature and moisture. You should be ready too. Check out the forecast before you arrive and plan accordingly.\","
      ],
      "metadata": {
        "id": "MeZYtl9UbyyF",
        "colab": {
          "base_uri": "https://localhost:8080/",
          "height": 35
        },
        "outputId": "95a1e1b9-7773-4cea-ace8-1baa25a61037"
      },
      "execution_count": null,
      "outputs": [
        {
          "output_type": "execute_result",
          "data": {
            "text/plain": [
              "'https://developer.nps.gov/api/v1/parks?parkCode=pefo&api_key=T4IUw12jrDjaJdUrMXBOtfySCGsCk9llR6gMmewE'"
            ],
            "application/vnd.google.colaboratory.intrinsic+json": {
              "type": "string"
            }
          },
          "metadata": {},
          "execution_count": 8
        }
      ]
    },
    {
      "cell_type": "markdown",
      "metadata": {
        "id": "c0siBE2qwUSY"
      },
      "source": [
        "## Part III - Think About How to Solve a Problem using a Stock API\n",
        "\n",
        "You will investigate the [**Alpha Vantage Stock API**](https://www.alphavantage.co/documentation/). \n",
        "\n",
        "- Register for an [Alpha Vantage API key](https://www.alphavantage.co/support/#api-key).\n",
        "- Peruse the documentation above and look at the API calls in the `Accessing Datasets for Analysis (Lecture)` examples for Alpha Vantage.\n",
        "- What is the `base URL` that will be included in all the API calls?\n",
        "- Use the appropriate API endpoint to determine the **stock symbols** for both Tesla and Nvidia corporations.\n",
        "  - Copy/paste in a code cell below the JSON object that contains the answer.\n",
        "- Use the appropriate API endpoint to determine the most current **stock value** for both Tesla and Nvidia corporations.\n",
        "  - Write down the URL of the API call that gives you this information.\n",
        "  - What is the JSON `name/value` pair that has the current stock price on the most recent day of stock trading? What is the last trading day for this stock price?\n",
        "\n",
        "### Solve a Problem Using the Alpha Vantage API\n",
        "I want to know how much a specific stock price went up (or down) following Friday December 31, 2021 and through Friday July 15, 2022. You may use Tesla, Nvidia, or any other company that you'd like for this.\n",
        "\n",
        "- Describe which Alpha Vantage API endpoint could be used to solve this problem.\n",
        "  - Show the specific URL that you would use for this problem.\n",
        "  - What specific JSON data could you use to solve the problem?  How?\n",
        "    - Write down the specific `name/value` pairs AND the `names` of the JSON objects where you obtained the data to solve the problem.\n",
        "\n",
        "- Is it possible to download an appropriate CSV file that also has this data?  What is the specific URL that you would use?"
      ]
    },
    {
      "cell_type": "code",
      "source": [
        "# Base URL\n",
        "\"https://www.alphavantage.co/query?function=\"\n",
        "# Stock symbol query and JSON\n",
        "\"https://www.alphavantage.co/query?function=SYMBOL_SEARCH&keywords=tesla&apikey=4BHM8RH2Q6400YQ2\"\n",
        "# Answer = \"1. symbol\": \"TSLA\",\n",
        "\"https://www.alphavantage.co/query?function=SYMBOL_SEARCH&keywords=Nvidia&apikey=4BHM8RH2Q6400YQ2\"\n",
        "# Answer = \"1. symbol\": \"NVDA\",\n",
        "# Stock quote and name/value pairs\n",
        "\"https://www.alphavantage.co/query?function=GLOBAL_QUOTE&symbol=TSLA&interval=60min&apikey=4BHM8RH2Q6400YQ2\"\n",
        "# Answer = \"05. price\": \"815.1200\", \"07. latest trading day\": \"2022-07-21\",\n",
        "\"https://www.alphavantage.co/query?function=GLOBAL_QUOTE&symbol=NVDA&interval=60min&apikey=4BHM8RH2Q6400YQ2\"\n",
        "# Answer = \"05. price\": \"180.5000\", \"07. latest trading day\": \"2022-07-21\",\n",
        "\n",
        "# Solve a problem \n",
        "### ANSWER ## - From January 1, 2022 to July 15, 2022 - TSLA stock price went up the HIGHEST in JANUARY, reaching 1208.0000 (increased 60.2500 from opening price of 1147.7500). Over the\n",
        "### ANSWER (continued) - six and half months, TSLA stock prices hit the LOWEST in MAY at the price of 240.2000 (decreased by 102.5100 from opening price of 860.7700). Between the highest\n",
        "### ANSWER (continued) - stock price number and the lowest, the difference/change was 587.4300. \n",
        "\n",
        "# Include API calls, JSON data and any computation to solve the problem \n",
        "\"https://www.alphavantage.co/query?function=TIME_SERIES_MONTHLY&symbol=TSLA&apikey=4BHM8RH2Q6400YQ2\" # to get montly stock price information for months (Jan - June)\n",
        "\"https://www.alphavantage.co/query?function=TIME_SERIES_WEEKLY&symbol=TSLA&apikey=4BHM8RH2Q6400YQ2\" # to get weekly stock price information for part of July (fist two weeks)\n",
        "\"Monthly Time Series:\" # name of JSON object where I obtained the data, mostly used \"high\" & \"low\", and then twice the data from \"opening\" to get the difference in price influx\n",
        "# specific name/value pair titles. Looked over all 6.5 months of data and these two are where I found my answer. \n",
        "\n",
        "# Asnwer = \"2022-01-31\": {\n",
        "    # \"1. open\": \"1147.7500\", # used this as the base range to see how much it increased for the high\n",
        "    # \"2. high\": \"1208.0000\", # highest - used this\n",
        "    # \"3. low\": \"792.0100\",\n",
        "    # \"4. close\": \"936.7200\",\n",
        "  #  },\n",
        "\n",
        "# Answer = \"2022-05-31\": {\n",
        "    # \"1. open\": \"860.7700\", # used this as the base range to see how much it decreased for the low\n",
        "    # \"2. high\": \"955.5000\",\n",
        "    # \"3. low\": \"620.5700\", # lowest - used this\n",
        "    # \"4. close\": \"758.2600\",\n",
        "    # \"5. volume\": \"649232242\"\n",
        "  # },  \n",
        "\n",
        "#Answer = \"Weekly Time Series\":\"2022-07-15\": {\n",
        "    # \"1. open\": \"756.3100\",\n",
        "    # \"2. high\": \"759.1900\",\n",
        "    # \"3. low\": \"675.1000\",\n",
        "    # \"4. close\": \"720.2000\",\n",
        "  # },\n",
        "# It is possible to download a CVS file that has this same information. just add end point\"datatype=csv after your API key\n",
        "\"https://www.alphavantage.co/query?function=TIME_SERIES_MONTHLY&symbol=TSLA&apikey=4BHM8RH2Q6400YQ2&datatype=csv\""
      ],
      "metadata": {
        "id": "BwK4U9AoRxiG",
        "colab": {
          "base_uri": "https://localhost:8080/",
          "height": 35
        },
        "outputId": "fb6b33a4-6bd8-45f9-8230-c3bf478fbffe"
      },
      "execution_count": null,
      "outputs": [
        {
          "output_type": "execute_result",
          "data": {
            "text/plain": [
              "'https://www.alphavantage.co/query?function=TIME_SERIES_MONTHLY&symbol=TSLA&apikey=4BHM8RH2Q6400YQ2&datatype=csv'"
            ],
            "application/vnd.google.colaboratory.intrinsic+json": {
              "type": "string"
            }
          },
          "metadata": {},
          "execution_count": 9
        }
      ]
    }
  ]
}